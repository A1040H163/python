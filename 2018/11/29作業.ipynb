{
  "nbformat": 4,
  "nbformat_minor": 0,
  "metadata": {
    "colab": {
      "name": "Untitled",
      "version": "0.3.2",
      "provenance": [],
      "include_colab_link": true
    },
    "kernelspec": {
      "name": "python3",
      "display_name": "Python 3"
    }
  },
  "cells": [
    {
      "cell_type": "markdown",
      "metadata": {
        "id": "view-in-github",
        "colab_type": "text"
      },
      "source": [
        "<a href=\"https://colab.research.google.com/github/A1040H163/python/blob/master/2018/11/29%E4%BD%9C%E6%A5%AD.ipynb\" target=\"_parent\"><img src=\"https://colab.research.google.com/assets/colab-badge.svg\" alt=\"Open In Colab\"/></a>"
      ]
    },
    {
      "metadata": {
        "id": "BO4rgZPTD73q",
        "colab_type": "code",
        "colab": {}
      },
      "cell_type": "code",
      "source": [
        "day = 0 # birth day to be determined\n",
        " //*******************************************************\n",
        "  \n",
        "  ///猜生日 2018/11/29 作業 傅晟育\n",
        "# Prompt the user to answer the first question\n",
        "question1 = \"Is your birthday in Set1?\\n\" + \\\n",
        "    \" 1  3  5  7\\n\" + \\\n",
        "    \" 9 11 13 15\\n\" + \\\n",
        "    \"17 19 21 23\\n\" + \\\n",
        "    \"25 27 29 31\" + \\\n",
        "    \"\\nEnter 0 for No and 1 for Yes: \" \n",
        "answer = eval(input(question1))\n",
        "  \n",
        "if answer == 1:\n",
        "   day += 1\n",
        " \n",
        "# Prompt the user to answer the second question\n",
        "question2 = \"Is your birthday in Set2?\\n\" + \\\n",
        "    \" 2  3  6  7\\n\" + \\\n",
        "    \"10 11 14 15\\n\" + \\\n",
        "    \"18 19 22 23\\n\" + \\\n",
        "    \"26 27 30 31\" + \\\n",
        "    \"\\nEnter 0 for No and 1 for Yes: \" \n",
        "answer = eval(input(question2))\n",
        "  \n",
        "if answer == 1:\n",
        "   day += 2\n",
        " \n",
        "# Prompt the user to answer the third question\n",
        "question3 = \"Is your birthday in Set3?\\n\" + \\\n",
        "    \" 4  5  6  7\\n\" + \\\n",
        "    \"12 13 14 15\\n\" + \\\n",
        "    \"20 21 22 23\\n\" + \\\n",
        "    \"28 29 30 31\" + \\\n",
        "    \"\\nEnter 0 for No and 1 for Yes: \" \n",
        "answer = eval(input(question3))\n",
        "  \n",
        "if answer == 1:\n",
        "   day += 4\n",
        "  \n",
        "# Prompt the user to answer the fourth question\n",
        "question4 = \"Is your birthday in Set4?\\n\" + \\\n",
        "    \" 8  9 10 11\\n\" + \\\n",
        "    \"12 13 14 15\\n\" + \\\n",
        "    \"24 25 26 27\\n\" + \\\n",
        "    \"28 29 30 31\" + \\\n",
        "    \"\\nEnter 0 for No and 1 for Yes: \" \n",
        "answer = eval(input(question4))\n",
        "  \n",
        "if answer == 1:\n",
        "    day += 8\n",
        "  \n",
        "# Prompt the user to answer the fifth question\n",
        "question5 = \"Is your birthday in Set5?\\n\" + \\\n",
        "    \"16 17 18 19\\n\" + \\\n",
        "    \"20 21 22 23\\n\" + \\\n",
        "    \"24 25 26 27\\n\" + \\\n",
        "    \"28 29 30 31\" + \\\n",
        "    \"\\nEnter 0 for No and 1 for Yes: \" \n",
        "answer = eval(input(question5))\n",
        "  \n",
        "if answer == 1:\n",
        "    day += 16\n",
        "\n",
        "print(\"\\nYour birthday is\" + str(day) + \"!\")\n"
      ],
      "execution_count": 0,
      "outputs": []
    },
    {
      "metadata": {
        "id": "bR7hUxejEsYq",
        "colab_type": "code",
        "colab": {
          "base_uri": "https://localhost:8080/",
          "height": 51
        },
        "outputId": "60934995-05d4-46cc-e30d-b3fa0d1c05ba"
      },
      "cell_type": "code",
      "source": [
        "import random\n",
        " //*******************************************************\n",
        "  \n",
        "  ///加減法 2018/11/29 作業 傅晟育\n",
        "# 1. Generate two random single-digit integers\n",
        "number1 = random.randint(0, 9)\n",
        "number2 = random.randint(0, 9)\n",
        "\n",
        "# 2. If number1 < number2, swap number1 with number2\n",
        "if number1 < number2:\n",
        "    number1, number2 = number2, number1 # Simultaneous assignment\n",
        "\n",
        "# 4. Prompt the student to answer \"what is number1 - number2?\"\n",
        "answer = eval(input(\"What is \" + str(number1) + \" - \" + \n",
        "    str(number2) + \"? \"))\n",
        "\n",
        "# 4. Grade the answer and display the result\n",
        "if number1 - number2 == answer:\n",
        "    print(\"You are correct!\")\n",
        "else:\n",
        "    print(\"Your answer is wrong.\\n\", number1, \"-\",\n",
        "        number2, \"is\", number1 - number2)"
      ],
      "execution_count": 11,
      "outputs": [
        {
          "output_type": "stream",
          "text": [
            "What is 7 - 1? 6\n",
            "You are correct!\n"
          ],
          "name": "stdout"
        }
      ]
    },
    {
      "metadata": {
        "id": "2yM0LIjCFLES",
        "colab_type": "code",
        "colab": {
          "base_uri": "https://localhost:8080/",
          "height": 51
        },
        "outputId": "be3beac4-7588-4f34-93e2-cfe94fd5f2a1"
      },
      "cell_type": "code",
      "source": [
        " //*******************************************************\n",
        "  \n",
        "  ///12生肖 2018/11/29 作業 傅晟育\n",
        "year = eval(input(\"Enter a year: \"))\n",
        "zodiacYear = year % 12 \n",
        "if zodiacYear == 0:\n",
        "    print(\"monkey\")\n",
        "elif zodiacYear == 1:\n",
        "    print(\"rooster\")\n",
        "elif zodiacYear == 2:\n",
        "    print(\"dog\")\n",
        "elif zodiacYear == 3:\n",
        "    print(\"pig\")\n",
        "elif zodiacYear == 4: \n",
        "    print(\"rat\")\n",
        "elif zodiacYear == 5: \n",
        "    print(\"ox\")\n",
        "elif zodiacYear == 6:\n",
        "    print(\"tiger\")\n",
        "elif zodiacYear == 7:\n",
        "    print(\"rabbit\")\n",
        "elif zodiacYear == 8:\n",
        "    print(\"dragon\")\n",
        "elif zodiacYear == 9:\n",
        "    print(\"snake\")\n",
        "elif zodiacYear == 10:\n",
        "    print(\"horse\")\n",
        "else: \n",
        "    print(\"sheep\")\n"
      ],
      "execution_count": 12,
      "outputs": [
        {
          "output_type": "stream",
          "text": [
            "Enter a year: 5\n",
            "ox\n"
          ],
          "name": "stdout"
        }
      ]
    },
    {
      "metadata": {
        "id": "iJYWkLvWFb9J",
        "colab_type": "code",
        "colab": {
          "base_uri": "https://localhost:8080/",
          "height": 85
        },
        "outputId": "f0e519cd-6ef4-482c-f303-9ad37005bb08"
      },
      "cell_type": "code",
      "source": [
        " //*******************************************************\n",
        "  \n",
        "  ///計算BMI 2018/11/29 作業 傅晟育\n",
        "# Prompt the user to enter weight in pounds\n",
        "weight = eval(input(\"Enter weight in pounds: \"))\n",
        "    \n",
        "# Prompt the user to enter height in inches\n",
        "height = eval(input(\"Enter height in inches: \"))\n",
        "    \n",
        "KILOGRAMS_PER_POUND = 0.45359237 # Constant\n",
        "METERS_PER_INCH = 0.0254 # Constant \n",
        "    \n",
        "# Compute BMI\n",
        "weightInKilograms = weight * KILOGRAMS_PER_POUND \n",
        "heightInMeters = height * METERS_PER_INCH\n",
        "bmi = weightInKilograms / (heightInMeters * heightInMeters)\n",
        "\n",
        "# Display result\n",
        "print(\"BMI is\", format(bmi, \".2f\"))\n",
        "if bmi < 18.5:\n",
        "    print(\"Underweight\")\n",
        "elif bmi < 25:\n",
        "    print(\"Normal\")\n",
        "elif bmi < 30:\n",
        "    print(\"Overweight\")\n",
        "else:\n",
        "    print(\"Obese\")"
      ],
      "execution_count": 13,
      "outputs": [
        {
          "output_type": "stream",
          "text": [
            "Enter weight in pounds: 50\n",
            "Enter height in inches: 170\n",
            "BMI is 1.22\n",
            "Underweight\n"
          ],
          "name": "stdout"
        }
      ]
    },
    {
      "metadata": {
        "id": "utp713vaF96Z",
        "colab_type": "code",
        "colab": {}
      },
      "cell_type": "code",
      "source": [
        " //*******************************************************\n",
        "  \n",
        "  ///計算稅款 2018/11/29 作業 傅晟育\n",
        "import sys\n",
        "\n",
        "# Prompt the user to enter filing status\n",
        "status = eval(input(\n",
        "    \"(0-single filer, 1-married jointly,\\n\" +\n",
        "    \"2-married separately, 3-head of household)\\n\" +\n",
        "    \"Enter the filing status: \"))\n",
        "\n",
        "# Prompt the user to enter taxable income\n",
        "income = eval(input(\"Enter the taxable income: \"))\n",
        "\n",
        "# Compute tax\n",
        "tax = 0\n",
        "\n",
        "if status == 0:  # Compute tax for single filers\n",
        "    if income <= 8350:\n",
        "        tax = income * 0.10\n",
        "    elif income <= 33950:\n",
        "        tax = 8350 * 0.10 + (income - 8350) * 0.15\n",
        "    elif income <= 82250:\n",
        "        tax = 8350 * 0.10 + (33950 - 8350) * 0.15 + \\\n",
        "            (income - 33950) * 0.25\n",
        "    elif income <= 171550:\n",
        "        tax = 8350 * 0.10 + (33950 - 8350) * 0.15 + \\\n",
        "            (82250 - 33950) * 0.25 + (income - 82250) * 0.28\n",
        "    elif income <= 372950:\n",
        "        tax = 8350 * 0.10 + (33950 - 8350) * 0.15 + \\\n",
        "            (82250 - 33950) * 0.25 + (171550 - 82250) * 0.28 + \\\n",
        "            (income - 171550) * 0.33\n",
        "    else:\n",
        "        tax = 8350 * 0.10 + (33950 - 8350) * 0.15 + \\\n",
        "              (82250 - 33950) * 0.25 + (171550 - 82250) * 0.28 + \\\n",
        "              (372950 - 171550) * 0.33 + (income - 372950) * 0.35;\n",
        "elif status == 1: # Compute tax for married file jointly\n",
        "    print(\"Left as exercise\")\n",
        "elif status == 2: # Compute tax for married separately\n",
        "    print(\"Left as exercise\")\n",
        "elif status == 3: # Compute tax for head of household\n",
        "    print(\"Left as exercise\")\n",
        "else:\n",
        "    print(\"Error: invalid status\")\n",
        "    sys.exit()\n",
        "\n",
        "# Display the result\n",
        "print(\"Tax is\", format(tax, \".2f\"))\n"
      ],
      "execution_count": 0,
      "outputs": []
    },
    {
      "metadata": {
        "id": "nrmz61-UGYUS",
        "colab_type": "code",
        "colab": {
          "base_uri": "https://localhost:8080/",
          "height": 51
        },
        "outputId": "8724acc4-9753-4aef-b4dc-7eefee247656"
      },
      "cell_type": "code",
      "source": [
        "\n",
        " //*******************************************************\n",
        "  \n",
        "  ///判斷閏年 2018/11/29 作業 傅晟育year = eval(input(\"Enter a year: \"))\n",
        "\n",
        "# Check if the year is a leap year \n",
        "isLeapYear = (year % 4 == 0 and year % 100 != 0) or \\\n",
        "   (year % 400 == 0)\n",
        "\n",
        "# Display the result \n",
        "print(year, \"is a leap year?\", isLeapYear)\n"
      ],
      "execution_count": 15,
      "outputs": [
        {
          "output_type": "stream",
          "text": [
            "Enter a year: 2000\n",
            "2000 is a leap year? True\n"
          ],
          "name": "stdout"
        }
      ]
    },
    {
      "metadata": {
        "id": "1YDyZyiTGYNK",
        "colab_type": "code",
        "colab": {
          "base_uri": "https://localhost:8080/",
          "height": 68
        },
        "outputId": "65fa0d6e-3aa2-4bd5-e7ee-538fbfec2d63"
      },
      "cell_type": "code",
      "source": [
        " //*******************************************************\n",
        "  \n",
        "  ///樂透 2018/11/29 作業 傅晟育\n",
        "import random\n",
        "\n",
        "# Generate a lottery\n",
        "lottery = random.randint(0, 99)\n",
        "\n",
        "# Prompt the user to enter a guess\n",
        "guess = eval(input(\"Enter your lottery pick (two digits): \"))\n",
        "\n",
        "# Get digits from lottery\n",
        "lotteryDigit1 = lottery // 10\n",
        "lotteryDigit2 = lottery % 10\n",
        "\n",
        "# Get digits from guess\n",
        "guessDigit1 = guess // 10\n",
        "guessDigit2 = guess % 10\n",
        "\n",
        "print(\"The lottery number is\", lottery)\n",
        "\n",
        "# Check the guess\n",
        "if guess == lottery:\n",
        "    print(\"Exact match: you win $10,000\")\n",
        "elif (guessDigit2 == lotteryDigit1 and \\\n",
        "  guessDigit1 == lotteryDigit2):\n",
        "    print(\"Match all digits: you win $3,000\")\n",
        "elif (guessDigit1 == lotteryDigit1 \n",
        "        or guessDigit1 == lotteryDigit2 \n",
        "        or guessDigit2 == lotteryDigit1 \n",
        "        or guessDigit2 == lotteryDigit2):\n",
        "    print(\"Match one digit: you win $1,000\")\n",
        "else:\n",
        "    print(\"Sorry, no match\")\n"
      ],
      "execution_count": 16,
      "outputs": [
        {
          "output_type": "stream",
          "text": [
            "Enter your lottery pick (two digits): 5\n",
            "The lottery number is 44\n",
            "Sorry, no match\n"
          ],
          "name": "stdout"
        }
      ]
    },
    {
      "metadata": {
        "id": "SQqdsiFuLo7z",
        "colab_type": "code",
        "colab": {}
      },
      "cell_type": "code",
      "source": [
        " //*******************************************************\n",
        "  \n",
        "  ///巢狀迴圈 2018/11/29 作業 傅晟育\n",
        "print(\"          Multiplication Table\")\n",
        "# Display the number title\n",
        "print(\"  |\", end = '')\n",
        "for j in range(1, 10):\n",
        "    print(\"  \", j, end = '')\n",
        "print() # Jump to the new line\n",
        "print(\"-----------------------------------------\")\n",
        "\n",
        "# Display table body\n",
        "for i in range(1, 10):\n",
        "    print(i, \"|\", end = '')\n",
        "    for j in range(1, 10): \n",
        "        # Display the product and align properly\n",
        "        print(format(i * j, '4d'), end = '')\n",
        "    print()# Jump to the new line\n"
      ],
      "execution_count": 0,
      "outputs": []
    },
    {
      "metadata": {
        "id": "WX5kwQdqMB7l",
        "colab_type": "code",
        "colab": {}
      },
      "cell_type": "code",
      "source": [
        " //*******************************************************\n",
        "  \n",
        "  ///蒙特卡羅模擬 2018/11/29 作業 傅晟育\n",
        "import random\n",
        "\n",
        "NUMBER_OF_TRIALS = 100000 # Constant\n",
        "numberOfHits = 0\n",
        "\n",
        "for i in range(NUMBER_OF_TRIALS):\n",
        "    x = random.random() * 2 - 1\n",
        "    y = random.random() * 2 - 1\n",
        "\n",
        "    if x * x + y * y <= 1:\n",
        "        numberOfHits += 1\n",
        "\n",
        "pi = 4 * numberOfHits / NUMBER_OF_TRIALS\n",
        "\n",
        "print(\"PI is\", pi)\n"
      ],
      "execution_count": 0,
      "outputs": []
    },
    {
      "metadata": {
        "id": "O4mGnSHCXbeM",
        "colab_type": "code",
        "colab": {}
      },
      "cell_type": "code",
      "source": [
        "from google.colab import auth\n",
        "auth.authenticate_user()\n",
        "\n",
        "# https://cloud.google.com/resource-manager/docs/creating-managing-projects\n",
        "project_id = '[your Cloud Platform project ID]'\n",
        "!gcloud config set project {project_id}"
      ],
      "execution_count": 0,
      "outputs": []
    },
    {
      "metadata": {
        "id": "KZinY459XbfP",
        "colab_type": "code",
        "colab": {}
      },
      "cell_type": "code",
      "source": [
        "# Create a local file with data to upload.\n",
        "with open('/tmp/to_upload.txt', 'w') as f:\n",
        "  f.write('my sample file')\n",
        "\n",
        "import uuid\n",
        "\n",
        "# Make a unique bucket to which we'll upload the file.\n",
        "# (GCS buckets are part of a single global namespace.)\n",
        "bucket_name = 'colab-sample-bucket-' + str(uuid.uuid1())\n",
        "\n",
        "# Full reference: https://cloud.google.com/storage/docs/gsutil/commands/mb\n",
        "!gsutil mb gs://{bucket_name}\n",
        "\n",
        "# Copy the file to our new bucket.\n",
        "# Full reference: https://cloud.google.com/storage/docs/gsutil/commands/cp\n",
        "!gsutil cp /tmp/to_upload.txt gs://{bucket_name}/\n",
        "  \n",
        "# Finally, dump the contents of our newly copied file to make sure everything worked.\n",
        "!gsutil cat gs://{bucket_name}/to_upload.txt"
      ],
      "execution_count": 0,
      "outputs": []
    },
    {
      "metadata": {
        "id": "Lw4UXCOiMyIk",
        "colab_type": "code",
        "colab": {}
      },
      "cell_type": "code",
      "source": [
        " //*******************************************************\n",
        "  \n",
        "  ///回傳多個值 2018/11/29 作業 傅晟育\n",
        "def sort(number1, number2):\n",
        "    if number1 < number2:\n",
        "        return number1, number2\n",
        "    else:\n",
        "        return number2, number1\n",
        "\n",
        "n1, n2 = sort(3, 2)\n",
        "print(\"n1 is\", n1)\n",
        "print(\"n2 is\", n2)\n"
      ],
      "execution_count": 0,
      "outputs": []
    }
  ]
}